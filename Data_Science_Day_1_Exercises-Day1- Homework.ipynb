{
 "cells": [
  {
   "cell_type": "markdown",
   "metadata": {},
   "source": [
    "# Exercises"
   ]
  },
  {
   "cell_type": "markdown",
   "metadata": {},
   "source": [
    "### #1 - Calculate the BMI (body mass index) on the two lists below using NDArrays..."
   ]
  },
  {
   "cell_type": "code",
   "execution_count": 55,
   "metadata": {},
   "outputs": [
    {
     "ename": "SyntaxError",
     "evalue": "invalid syntax (<ipython-input-55-4c80fb5e73af>, line 27)",
     "output_type": "error",
     "traceback": [
      "\u001b[1;36m  File \u001b[1;32m\"<ipython-input-55-4c80fb5e73af>\"\u001b[1;36m, line \u001b[1;32m27\u001b[0m\n\u001b[1;33m    elif height or weight not input():\u001b[0m\n\u001b[1;37m                              ^\u001b[0m\n\u001b[1;31mSyntaxError\u001b[0m\u001b[1;31m:\u001b[0m invalid syntax\n"
     ]
    }
   ],
   "source": [
    "## import numpy as np\n",
    "# formula = weight / (height**2) * 730\n",
    "height = [69, 70, 71, 72, 73, 74, 75]\n",
    "weight = [110, 120, 130, 140, 150, 160, 170]\n",
    "\n",
    "# OUTPUT: [16.86620458 17.87755102 18.82562984 19.71450617 20.54794521 21.32943755\n",
    "# 22.06222222]\n",
    "\n",
    "# input for weight\n",
    "# input for height\n",
    "# formula to get ans\n",
    "# want user to only input a float num\n",
    "# throw an angry message if not a num\n",
    "\n",
    "# solve first lists, conditional if statement. then do inputs\n",
    "\n",
    "\n",
    "def get_bmi():\n",
    "    \n",
    "    if weight == int(float(input())):\n",
    "        weight = input()\n",
    "    elif height == int(float(input())):\n",
    "        height = input()\n",
    "        formula = weight / (height**2) * 730\n",
    "        return formula\n",
    "    \n",
    "    elif height or weight not  int(float(input())):\n",
    "        print('¡Introduzca sólo números, por favor!')\n",
    "        \n",
    "    \n",
    "print(get_bmi())\n",
    "    \n",
    "    \n",
    "    \n",
    "    \n",
    "    \n",
    "    \n",
    "    \n",
    "    \n",
    "#     intweight = 0\n",
    "# while True:\n",
    "#     try:      \n",
    "#         weight = float(input('weight: '))\n",
    "#         height = float(input('height: '))\n",
    "#         ans = weight / height**2 *730\n",
    "# #     return ans\n",
    "#         break\n",
    "#     except ValueError:\n",
    "#         print(\"PLEASE ENTER VALID NUMBEROS\")\n",
    "#     else:\n",
    "#         break\n",
    "# print(get_bmi())"
   ]
  },
  {
   "cell_type": "markdown",
   "metadata": {},
   "source": [
    "### #2 - Create a function that will take in two parameters and will create a random matrix based off of those parameters. Extra: Have additional parameters taken in that allow the user to choose the shape and data type of the matrix."
   ]
  },
  {
   "cell_type": "code",
   "execution_count": 119,
   "metadata": {},
   "outputs": [
    {
     "name": "stdout",
     "output_type": "stream",
     "text": [
      "[[ 0  1  2  3]\n",
      " [ 4  5  6  7]\n",
      " [ 8  9 10 11]\n",
      " [12 13 14 15]]\n"
     ]
    }
   ],
   "source": [
    "import numpy as np\n",
    "\n",
    "\"\"\"\n",
    "Example Result\n",
    "array([[14.21633515,  7.98846653,  9.64140715],\n",
    "       [ 6.30982234,  9.96414331,  8.43153688],\n",
    "       [14.73102068, 11.76072894, 14.23356121]])\n",
    "\"\"\"\n",
    "# def makeMatrix(low,high,shape,data_type = float): -- Example\n",
    "#     pass\n",
    "\n",
    "\n",
    "\n",
    "#def random_matrix will take 2 params\n",
    "# creates random matrix\n",
    "#going to use random.uniforms for fun and store it in vars\n",
    "#pass said vars into function\n",
    "#gimme 3 numbers from 0 through 20\n",
    "#gimme 3 nums from 2 through 10\n",
    "\n",
    "# try to store num1 n num2 into a num 3 if error occurs\n",
    "# with passing both num1 and num2 into randint\n",
    "# I want to make the row and column randomly generated\n",
    "# so Ill store random numbers in a var,\n",
    "# then pass it in the randint, size\n",
    "\n",
    "\n",
    "\n",
    "\n",
    "\n",
    "\n",
    "\n",
    "\n",
    "\n",
    "\n",
    "\n",
    "\n",
    "num1 = np.random.uniform(0,20,3)\n",
    "num2 = np.random.uniform(2,10,3)\n",
    "\n",
    "num_1 = np.random.uniform(1,5,5)\n",
    "num_2 = np.random.uniform(1,5,5)\n",
    "\n",
    "\n",
    "\n",
    "# a = [] not needed\n",
    "\n",
    "\n",
    "\n",
    "\n",
    "def makeMatrix(low,high,shape,data_type = float):\n",
    "\n",
    "\n",
    "    a = np.arange(low, high, 1, data_type)\n",
    "    reshaped_a = a.reshape(shape)\n",
    "    return reshaped_a\n",
    "\n",
    "print(makeMatrix(0,16,(4,4),int))\n",
    "\n",
    "\n",
    "\n",
    "\n",
    "\n",
    "\n",
    "\n",
    "# ------------------------------------------------------------------\n",
    "\n",
    "\n",
    "\n",
    "# scrapped\n",
    "# make arr in m randomized,\n",
    "# along with random sumbers in each position\n",
    "# so Ill set stuff in vars and pass em into a new var\n",
    "\n",
    "# num1 = np.random.uniform(0,20,3)\n",
    "# num2 = np.random.uniform(2,10,3)\n",
    "\n",
    "\n",
    "\n",
    "# num_1 = np.random.uniform(1,5,5)\n",
    "# num_2 = np.random.uniform(1,5,5)\n",
    "\n",
    "\n",
    "# def generate_matrix(num_1,num_2):\n",
    "#     M[:, num_1:num_2, :] = num_1\n",
    "#     return M\n",
    "\n",
    "# print(generate_matrix(num_1,num2))\n"
   ]
  },
  {
   "cell_type": "markdown",
   "metadata": {},
   "source": [
    "### #3 - Extra: step#1 Open and load the data in the two text files that have the Boston Red Sox hitting data for the past seasons(Done). Step#2 Compare the difference in the two years by putting the data into an NDArray and running a differencial operation on it. The column to look for will be SLG.\n",
    "\n",
    "Your output should display which year (either 2017 or 2018) was a better year based on SLG"
   ]
  },
  {
   "cell_type": "code",
   "execution_count": 107,
   "metadata": {},
   "outputs": [
    {
     "name": "stdout",
     "output_type": "stream",
     "text": [
      "[['Rk', 'Pos', 'Name', 'Age', 'G', 'PA', 'AB', 'R', 'H', '2B', '3B', 'HR', 'RBI', 'SB', 'CS', 'BB', 'SO', 'BA', 'OBP', 'SLG', 'OPS', 'OPS+', 'TB', 'GDP', 'HBP', 'SH', 'SF', 'IBB'], ['1', 'C', 'Christian Vazquez', '26', '99', '345', '324', '43', '94', '18', '2', '5', '32', '7', '2', '17', '64', '.290', '.330', '.404', '.735', '91', '131', '14', '3', '0', '1', '0'], ['2', '1B', 'Mitch Moreland', '31', '149', '576', '508', '73', '125', '34', '0', '22', '79', '0', '1', '57', '120', '.246', '.326', '.443', '.769', '99', '225', '14', '6', '0', '5', '6'], ['3', '2B', 'Dustin Pedroia', '33', '105', '463', '406', '46', '119', '19', '0', '7', '62', '4', '3', '49', '48', '.293', '.369', '.392', '.760', '100', '159', '11', '2', '2', '4', '4'], ['4', 'SS', 'Xander Bogaerts', '24', '148', '635', '571', '94', '156', '32', '6', '10', '62', '15', '1', '56', '116', '.273', '.343', '.403', '.746', '95', '230', '17', '6', '0', '2', '6'], ['5', '3B', 'Rafael Devers', '20', '58', '240', '222', '34', '63', '14', '0', '10', '30', '3', '1', '18', '57', '.284', '.338', '.482', '.819', '111', '107', '5', '0', '0', '0', '3'], ['6', 'LF', 'Andrew Benintendi', '22', '151', '658', '573', '84', '155', '26', '1', '20', '90', '20', '5', '70', '112', '.271', '.352', '.424', '.776', '102', '243', '16', '6', '1', '8', '7'], ['7', 'CF', 'Jackie Bradley Jr.', '27', '133', '541', '482', '58', '118', '19', '3', '17', '63', '8', '3', '48', '124', '.245', '.323', '.402', '.726', '89', '194', '8', '9', '0', '2', '4'], ['8', 'RF', 'Mookie Betts', '24', '153', '712', '628', '101', '166', '46', '2', '24', '102', '26', '3', '77', '79', '.264', '.344', '.459', '.803', '108', '288', '9', '2', '0', '5', '9'], ['9', 'DH', 'Hanley Ramirez', '33', '133', '553', '496', '58', '120', '24', '0', '23', '62', '1', '3', '51', '116', '.242', '.320', '.429', '.750', '94', '213', '15', '6', '0', '0', '8'], ['10', 'C', 'Sandy Leon', '28', '85', '301', '271', '32', '61', '14', '0', '7', '39', '0', '0', '25', '74', '.225', '.290', '.354', '.644', '68', '96', '5', '1', '1', '3', '1'], ['11', 'UT', 'Chris Young', '33', '90', '276', '243', '30', '57', '12', '2', '7', '25', '3', '2', '30', '55', '.235', '.322', '.387', '.709', '85', '94', '4', '2', '0', '1', '0'], ['12', '3B', 'Deven Marrero', '26', '71', '188', '171', '32', '36', '9', '0', '4', '27', '5', '0', '12', '61', '.211', '.259', '.333', '.593', '54', '57', '8', '0', '3', '2', '0'], ['13', '2B', 'Eduardo Nunez', '30', '38', '173', '165', '23', '53', '12', '0', '8', '27', '6', '2', '6', '25', '.321', '.353', '.539', '.892', '128', '89', '3', '2', '0', '0', '0'], ['14', '2B', 'Brock Holt', '29', '64', '164', '140', '20', '28', '6', '0', '0', '7', '2', '1', '19', '34', '.200', '.305', '.243', '.548', '47', '34', '3', '3', '0', '2', '0'], ['15', 'IF', 'Josh Rutledge', '28', '37', '118', '107', '10', '24', '2', '1', '0', '9', '1', '0', '9', '31', '.224', '.297', '.262', '.558', '49', '28', '1', '2', '0', '0', '0'], ['16', '3B', 'Pablo Sandoval', '30', '32', '108', '99', '10', '21', '2', '0', '4', '12', '0', '1', '8', '24', '.212', '.269', '.354', '.622', '61', '35', '4', '0', '0', '1', '0'], ['17', 'UT', 'Sam Travis', '23', '33', '83', '76', '13', '20', '6', '0', '0', '1', '1', '0', '6', '23', '.263', '.325', '.342', '.667', '75', '26', '2', '1', '0', '0', '0'], ['18', 'UT', 'Tzu-Wei Lin', '23', '25', '66', '56', '7', '15', '0', '2', '0', '2', '1', '1', '9', '17', '.268', '.369', '.339', '.709', '88', '19', '0', '0', '1', '0', '0'], ['19', 'IF', 'Marco Hernandez', '24', '21', '60', '58', '7', '16', '3', '0', '0', '2', '0', '1', '1', '15', '.276', '.300', '.328', '.628', '65', '19', '0', '1', '0', '0', '0'], ['20', 'UT', 'Rajai Davis', '36', '17', '38', '36', '7', '9', '2', '0', '0', '2', '3', '1', '1', '13', '.250', '.289', '.306', '.595', '56', '11', '2', '1', '0', '0', '0'], ['21', 'UT', 'Steve Selsky', '27', '8', '9', '9', '0', '1', '1', '0', '0', '0', '0', '0', '0', '5', '.111', '.111', '.222', '.333', '-16', '2', '0', '0', '0', '0', '0'], ['22', 'UT', 'Blake Swihart', '25', '6', '7', '5', '1', '1', '0', '0', '0', '0', '0', '0', '2', '3', '.200', '.429', '.200', '.629', '74', '1', '0', '0', '0', '0', '0'], ['23', '2B', \"Chase d'Arnaud\", '30', '2', '1', '1', '2', '1', '0', '0', '0', '0', '0', '0', '0', '0', '1.000', '1.000', '1.000', '2.000', '428', '1', '0', '0', '0', '0', '0']]\n"
     ]
    }
   ],
   "source": [
    "import csv\n",
    "import numpy as np\n",
    "\n",
    "#Test to make sure you have the correct data\n",
    "#open, load, difference, slg?\n",
    "def open_csv(filename, d = ','):\n",
    "    # define an empty list to store data\n",
    "    data = []\n",
    "    \n",
    "    with open(filename, encoding = 'utf-8') as mData:\n",
    "        # use the csv reader method to create a python list\n",
    "        info = csv.reader(mData, delimiter = d)\n",
    "        \n",
    "        # Loop over info and append to data list\n",
    "        for row in info:\n",
    "            data.append(row)\n",
    "    return data\n",
    "\n",
    "csv_data = open_csv('../HW/files/redsox_2017_hitting.txt')\n",
    "# csv_data = open_csv('../HW/files/redsox_2018_hitting.txt')\n",
    "\n",
    "print(csv_data[:])"
   ]
  },
  {
   "cell_type": "code",
   "execution_count": 2,
   "metadata": {},
   "outputs": [
    {
     "name": "stdout",
     "output_type": "stream",
     "text": [
      "[['1', 'C', 'Sandy Leon', '29', '89', '288', '265', '30', '47', '12', '0', '5', '22', '1', '0', '15', '75', '.177', '.232', '.279', '.511', '37', '74', '6', '4', '3', '1', '0'], ['2', '1B', 'Mitch Moreland', '32', '124', '459', '404', '57', '99', '23', '4', '15', '68', '2', '0', '50', '102', '.245', '.325', '.433', '.758', '102', '175', '12', '0', '0', '5', '2'], ['3', '2B', 'Eduardo Nunez', '31', '127', '502', '480', '56', '127', '23', '3', '10', '44', '7', '2', '16', '69', '.265', '.289', '.388', '.677', '81', '186', '17', '2', '1', '3', '0'], ['4', 'SS', 'Xander Bogaerts', '25', '136', '580', '513', '72', '148', '45', '3', '23', '103', '8', '2', '55', '102', '.288', '.360', '.522', '.883', '135', '268', '14', '6', '0', '6', '4']]\n"
     ]
    }
   ],
   "source": [
    "import csv\n",
    "import numpy as np\n",
    "\n",
    "#Test to make sure you have the correct data\n",
    "\n",
    "def open_csv(filename, d = ','):\n",
    "    # define an empty list to store data\n",
    "    data = []\n",
    "    \n",
    "    with open(filename, encoding = 'utf-8') as mData:\n",
    "        # use the csv reader method to create a python list\n",
    "        info = csv.reader(mData, delimiter = d)\n",
    "        \n",
    "        # Loop over info and append to data list\n",
    "        for row in info:\n",
    "            data.append(row)\n",
    "    return data\n",
    "\n",
    "csv_data = open_csv('../HW/files/redsox_2018_hitting.txt')\n",
    "\n",
    "print(csv_data[1:5])"
   ]
  },
  {
   "cell_type": "code",
   "execution_count": 6,
   "metadata": {
    "scrolled": true
   },
   "outputs": [
    {
     "name": "stdout",
     "output_type": "stream",
     "text": [
      "[0.404 0.443 0.392 0.403 0.482 0.424 0.402 0.459 0.429 0.354 0.387 0.333\n",
      " 0.539 0.243 0.262 0.354 0.342 0.339 0.328 0.306 0.222 0.2   1.   ]\n",
      "year 17 had more\n"
     ]
    }
   ],
   "source": [
    "\"\"\"\n",
    "Example Result - Not the actual result\n",
    "Boston 18 had more SLG in 2018\n",
    "[0.404 0.443 0.392 0.403 0.482 0.424 0.402 0.459 0.429 0.354 0.387 0.333\n",
    " 0.539 0.243 0.262 0.354 0.342 0.339 0.328 0.306 0.222 0.2   1.   ]\n",
    "\"\"\"\n",
    "\n",
    "FIELDS = ['Rk', 'Pos', 'Name', 'Age', 'G', 'PA', 'AB', 'R', 'H', '2B', '3B', 'HR', 'RBI', 'SB', 'CS', \n",
    "          'BB', 'SO', 'BA', 'OBP', 'SLG', 'OPS', 'OPS+', 'TB', 'GDP', 'HBP', 'SH', 'SF', 'IBB']\n",
    "\n",
    "DATATYPES = [('rk', 'i'), ('pos', '|S25'), ('name', '|S25'), ('age', 'i'), ('g', 'i'), ('pa', 'i'), ('ab', 'i'),\n",
    "                ('r', 'i'), ('h', 'i'), ('2b', 'i'), ('3b', 'i'), ('hr', 'i'), ('rbi', 'i'), ('sb', 'i'), ('cs', 'i'),\n",
    "                ('bb', 'i'), ('so', 'i'), ('ba', 'f'), ('obp', 'f'), ('slg', 'f'), ('ops', 'f'), ('opsp', 'i'),\n",
    "                ('tb', 'i'), ('gdp', 'i'), ('hbp', 'i'), ('sh', 'i'), ('sf', 'i'), ('ibb', 'i')]\n",
    "\n",
    "#Use this function to actually open the data inside of a NDArray\n",
    "\n",
    "def load_data(filename, d = ','):\n",
    "    data = np.genfromtxt(filename, delimiter = d, skip_header = 1,\n",
    "                        usecols = np.arange(0,27), invalid_raise = False,\n",
    "                        names = FIELDS, dtype = DATATYPES)\n",
    "    return data\n",
    "\n",
    "bs2017 = load_data('../HW/files/redsox_2017_hitting.txt')\n",
    "bs2018 = load_data('../HW/files/redsox_2018_hitting.txt')\n",
    "\n",
    "SLG_17 = bs2017['SLG']\n",
    "SLG_18 = bs2018['SLG']\n",
    "\n",
    "def diff(d1,d2):\n",
    "    if d1.shape > d2.shape:\n",
    "        print(d1)\n",
    "        print('year 17 had more')\n",
    "    else:\n",
    "        print(d2)\n",
    "        print('18 is was better')\n",
    "diff(SLG_17, SLG_18)\n",
    "# SLG_17_arr = np.array(SLG_17)\n",
    "# SLG_18_arr = np.array(SLG_18)\n",
    "\n",
    "\n",
    "\n"
   ]
  }
 ],
 "metadata": {
  "kernelspec": {
   "display_name": "Python 3",
   "language": "python",
   "name": "python3"
  },
  "language_info": {
   "codemirror_mode": {
    "name": "ipython",
    "version": 3
   },
   "file_extension": ".py",
   "mimetype": "text/x-python",
   "name": "python",
   "nbconvert_exporter": "python",
   "pygments_lexer": "ipython3",
   "version": "3.8.5"
  }
 },
 "nbformat": 4,
 "nbformat_minor": 2
}
